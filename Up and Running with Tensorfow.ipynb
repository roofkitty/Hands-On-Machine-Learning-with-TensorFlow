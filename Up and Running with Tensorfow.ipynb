{
 "cells": [
  {
   "cell_type": "code",
   "execution_count": 1,
   "metadata": {},
   "outputs": [],
   "source": [
    "import tensorflow as tf"
   ]
  },
  {
   "cell_type": "markdown",
   "metadata": {},
   "source": [
    "The basic principle of TensorFlow is simple: you first define in Python a graph of computations to perform (for example, the one in Figure 9-1), and then TensorFlow takes that graph and runs it efficiently using optimized C++ code.\n",
    "\n",
    "<figure><img src='figure9-1.png'><figcaption>Figure 9-1</figcaption></figure>"
   ]
  },
  {
   "cell_type": "markdown",
   "metadata": {},
   "source": [
    "## Create graph and run it in a session"
   ]
  },
  {
   "cell_type": "code",
   "execution_count": 6,
   "metadata": {},
   "outputs": [
    {
     "name": "stdout",
     "output_type": "stream",
     "text": [
      "The Result is 42\n",
      "The Result is 42\n",
      "The Result is 42\n"
     ]
    }
   ],
   "source": [
    "# Construction phase: Setup the graph\n",
    "x = tf.Variable(3, name='x')\n",
    "y = tf.Variable(4, name='y')\n",
    "f = x*x*y + y + 2\n",
    "\n",
    "# Execution phase:\n",
    "# Create a session, initialize the variable, evaluate and close the session\n",
    "sess = tf.Session()\n",
    "sess.run(x.initializer)\n",
    "sess.run(y.initializer)\n",
    "result = sess.run(f)\n",
    "print('The Result is %d' %result)\n",
    "sess.close()\n",
    "\n",
    "# A better way is to write in block to make it cleaner\n",
    "with tf.Session() as sess:\n",
    "    x.initializer.run()\n",
    "    y.initializer.run()\n",
    "    result = f.eval()\n",
    "print('The Result is %d' %result)\n",
    "\n",
    "# We can also use init code to initialize all variable at once:\n",
    "init = tf.global_variables_initializer()  # prepare an init node\n",
    "with tf.Session() as sess:\n",
    "    init.run()  # actually initialize all the variables\n",
    "    result = f.eval()\n",
    "print('The Result is %d' %result)"
   ]
  },
  {
   "cell_type": "markdown",
   "metadata": {},
   "source": [
    "## Manage Graphs\n",
    "Any node you create is automatically added to the default graph. But if you wan to manage multiple independent graphs, we can create new graph add node inside a with block"
   ]
  },
  {
   "cell_type": "code",
   "execution_count": 16,
   "metadata": {
    "scrolled": false
   },
   "outputs": [
    {
     "name": "stdout",
     "output_type": "stream",
     "text": [
      "Is x1 in default graph? True\n",
      "Is x2 in default graph? False\n",
      "Is x2 in graph? True\n"
     ]
    }
   ],
   "source": [
    "x1 = tf.Variable(1)\n",
    "print('Is x1 in default graph? %s' %str(x1.graph is tf.get_default_graph()))\n",
    "\n",
    "graph = tf.Graph() # create a graph\n",
    "with graph.as_default():\n",
    "    x2 = tf.Variable(2)\n",
    "print('Is x2 in default graph? %s' %str(x2.graph is tf.get_default_graph()))\n",
    "print('Is x2 in graph? %s' %str(x2.graph is graph))"
   ]
  },
  {
   "cell_type": "markdown",
   "metadata": {},
   "source": [
    "We can also reset default graph"
   ]
  },
  {
   "cell_type": "code",
   "execution_count": 17,
   "metadata": {},
   "outputs": [
    {
     "name": "stdout",
     "output_type": "stream",
     "text": [
      "Is x1 in default graph? False\n"
     ]
    }
   ],
   "source": [
    "x1 = tf.Variable(1)\n",
    "tf.reset_default_graph() # remove all the nodes\n",
    "print('Is x1 in default graph? %s' %str(x1.graph is tf.get_default_graph()))"
   ]
  },
  {
   "cell_type": "code",
   "execution_count": null,
   "metadata": {},
   "outputs": [],
   "source": []
  }
 ],
 "metadata": {
  "kernelspec": {
   "display_name": "Python 3",
   "language": "python",
   "name": "python3"
  },
  "language_info": {
   "codemirror_mode": {
    "name": "ipython",
    "version": 3
   },
   "file_extension": ".py",
   "mimetype": "text/x-python",
   "name": "python",
   "nbconvert_exporter": "python",
   "pygments_lexer": "ipython3",
   "version": "3.6.4"
  }
 },
 "nbformat": 4,
 "nbformat_minor": 2
}
